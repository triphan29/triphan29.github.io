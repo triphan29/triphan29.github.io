{
  "nbformat": 4,
  "nbformat_minor": 0,
  "metadata": {
    "colab": {
      "name": "Linear-Regression_Gradient-Descent.ipynb",
      "provenance": [],
      "collapsed_sections": [],
      "authorship_tag": "ABX9TyNc2DpJY6KGdao2zJ4FS0KH",
      "include_colab_link": true
    },
    "kernelspec": {
      "name": "python3",
      "display_name": "Python 3"
    },
    "language_info": {
      "name": "python"
    }
  },
  "cells": [
    {
      "cell_type": "markdown",
      "metadata": {
        "id": "view-in-github",
        "colab_type": "text"
      },
      "source": [
        "<a href=\"https://colab.research.google.com/github/triphan29/triphan29.github.io/blob/master/Linear_Regression_Gradient_Descent.ipynb\" target=\"_parent\"><img src=\"https://colab.research.google.com/assets/colab-badge.svg\" alt=\"Open In Colab\"/></a>"
      ]
    },
    {
      "cell_type": "markdown",
      "metadata": {
        "id": "YXRyHv5PEnUA"
      },
      "source": [
        "# 1. Issue\n",
        "To predict a factor (y) of an object based on other factor (x, z, …) of the object, what we know is many object samples with know all factor’s value (x, y, z, …). For example: there are collection of (time, score) of 10 students, if there is a new student, and we know spent time of that student for studying, then we need predict the score of that student. To solve the issue, we must assume that there are relationship between the target factor and others, so we will apply Linear Regression method\n",
        "\n",
        "We map factors of an object as number of dimensions and each student is a point in coordinate system -> we have  a collection of points. To predict new point position from known dimensions and unknown 1 dimension, we need draw a line going through all points (the line represent for relationship of point’s factors), the predicting point will be on the line.\n",
        "\n",
        "However, it is impossible to draw the line going through all points, so we need the line will have the shortest distance from total points to it. Find formula for the line is the target of the math\n",
        "\n",
        "\n"
      ]
    }
  ]
}